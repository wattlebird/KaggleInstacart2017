{
 "cells": [
  {
   "cell_type": "code",
   "execution_count": 1,
   "metadata": {
    "collapsed": true
   },
   "outputs": [],
   "source": [
    "import numpy as np\n",
    "import pandas as pd\n",
    "import gc\n",
    "\n",
    "gc.enable()\n",
    "\n",
    "data = \"/mnt/d/Data/Instacart/\""
   ]
  },
  {
   "cell_type": "code",
   "execution_count": 5,
   "metadata": {},
   "outputs": [],
   "source": [
    "f = pd.read_hdf(data+\"dataset.hdf\", \"train\")\n",
    "\n",
    "f['aisle_id'] = f['aisle_id']-1\n",
    "f['department_id'] = f['department_id']-1\n",
    "f['order_dow'] = f['order_dow']-1\n",
    "f['order_hour_of_day'] = f['order_hour_of_day']-1\n",
    "\n",
    "f.drop(['user_prod_recentlydiscovered', 'hour_prod_user_reorder_prob', 'prod_norder', 'user_prod_order_interval', \n",
    "        'week_prod_user_reorder_prob', 'order_hour_of_day', 'user_nritem_ratio', 'user_prod_days_interval_prod_ratio',\n",
    "       'user_prod_days_interval', 'order_dow', 'prod_week_prob', 'department_id', 'prod_dep_reorder_prob'], axis=1, inplace=True)\n",
    "\n",
    "train = f[f['seed']<2].drop(['order_id', 'user_id', 'product_id', 'seed'], axis=1)\n",
    "valid = f[f['seed']==3].drop(['order_id', 'user_id', 'product_id', 'seed'], axis=1)"
   ]
  },
  {
   "cell_type": "code",
   "execution_count": 6,
   "metadata": {},
   "outputs": [],
   "source": [
    "train_cont = train.drop(['label', 'user_prod_reordered', 'aisle_id'], axis=1).values\n",
    "train_disc = train[['user_prod_reordered', 'aisle_id']].astype(int).values"
   ]
  },
  {
   "cell_type": "code",
   "execution_count": 9,
   "metadata": {},
   "outputs": [
    {
     "data": {
      "text/plain": [
       "array([[ -8.22717998e-01,  -6.95666290e-01,   6.44608883e-01, ...,\n",
       "          8.95633582e-01,   3.41133324e-01,   1.91596838e+00],\n",
       "       [ -8.22717998e-01,  -6.95666290e-01,   6.44608883e-01, ...,\n",
       "         -5.67535662e-01,   6.54063496e-03,   5.45276114e-02],\n",
       "       [ -8.22717998e-01,  -6.95666290e-01,   6.44608883e-01, ...,\n",
       "          7.62618196e-01,   1.12184960e+00,   4.63670410e-01],\n",
       "       ..., \n",
       "       [  5.35398034e-02,  -2.92498961e-01,  -9.00602972e-04, ...,\n",
       "         -6.29365443e-01,  -6.74110537e-01,  -4.02254933e-01],\n",
       "       [  5.35398034e-02,  -2.92498961e-01,  -9.00602972e-04, ...,\n",
       "         -6.29365443e-01,  -6.74110537e-01,  -4.88258723e-01],\n",
       "       [  5.35398034e-02,  -2.92498961e-01,  -9.00602972e-04, ...,\n",
       "         -6.29365443e-01,  -9.64924744e-01,  -5.29791663e-01]])"
      ]
     },
     "execution_count": 9,
     "metadata": {},
     "output_type": "execute_result"
    }
   ],
   "source": [
    "from sklearn import preprocessing\n",
    "\n",
    "preprocessing.scale(train_cont)"
   ]
  },
  {
   "cell_type": "code",
   "execution_count": 10,
   "metadata": {},
   "outputs": [
    {
     "data": {
      "text/plain": [
       "<3365611x136 sparse matrix of type '<class 'numpy.float64'>'\n",
       "\twith 6731222 stored elements in Compressed Sparse Row format>"
      ]
     },
     "execution_count": 10,
     "metadata": {},
     "output_type": "execute_result"
    }
   ],
   "source": [
    "encoder = preprocessing.OneHotEncoder()\n",
    "encoder.fit_transform(train_disc)"
   ]
  },
  {
   "cell_type": "code",
   "execution_count": null,
   "metadata": {
    "collapsed": true
   },
   "outputs": [],
   "source": []
  }
 ],
 "metadata": {
  "kernelspec": {
   "display_name": "Python 3",
   "language": "python",
   "name": "python3"
  },
  "language_info": {
   "codemirror_mode": {
    "name": "ipython",
    "version": 3
   },
   "file_extension": ".py",
   "mimetype": "text/x-python",
   "name": "python",
   "nbconvert_exporter": "python",
   "pygments_lexer": "ipython3",
   "version": "3.5.2"
  }
 },
 "nbformat": 4,
 "nbformat_minor": 2
}
