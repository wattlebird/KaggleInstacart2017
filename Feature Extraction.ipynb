{
 "cells": [
  {
   "cell_type": "code",
   "execution_count": 1,
   "metadata": {
    "collapsed": true
   },
   "outputs": [],
   "source": [
    "import numpy as np\n",
    "import pandas as pd\n",
    "\n",
    "data = \"/mnt/d/Data/Instacart/\""
   ]
  },
  {
   "cell_type": "code",
   "execution_count": 2,
   "metadata": {
    "collapsed": true
   },
   "outputs": [],
   "source": [
    "priors = pd.read_csv(data + 'order_products__prior.csv', dtype={\n",
    "            'order_id': np.int32,\n",
    "            'product_id': np.uint16,\n",
    "            'add_to_cart_order': np.int16,\n",
    "            'reordered': np.int8}, usecols = ['order_id', 'product_id', 'reordered'], engine='c')\n",
    "\n",
    "orders = pd.read_csv(data + 'orders.csv', dtype={\n",
    "        'order_id': np.int32,\n",
    "        'user_id': np.int32,\n",
    "        'eval_set': 'category',\n",
    "        'order_number': np.int16,\n",
    "        'order_dow': np.int8,\n",
    "        'order_hour_of_day': np.int8,\n",
    "        'days_since_prior_order': np.float32}, usecols = ['order_id', 'user_id', 'order_number'], engine='c')\n",
    "\n",
    "product = pd.merge(priors, orders, on='order_id').sort_values(by=['user_id', 'order_number', 'product_id']).reset_index(drop=True)"
   ]
  },
  {
   "cell_type": "markdown",
   "metadata": {},
   "source": [
    "Try to generage product feature, which includes:\n",
    "\n",
    "* probability that a product is reordered \n",
    "* average time of a product being reordered"
   ]
  },
  {
   "cell_type": "code",
   "execution_count": 3,
   "metadata": {
    "collapsed": true
   },
   "outputs": [],
   "source": [
    "product['order_time']=product.groupby(by=['product_id', 'user_id']).cumcount()"
   ]
  },
  {
   "cell_type": "code",
   "execution_count": 14,
   "metadata": {},
   "outputs": [
    {
     "data": {
      "text/html": [
       "<div>\n",
       "<table border=\"1\" class=\"dataframe\">\n",
       "  <thead>\n",
       "    <tr style=\"text-align: right;\">\n",
       "      <th></th>\n",
       "      <th>order_id</th>\n",
       "      <th>product_id</th>\n",
       "      <th>reordered</th>\n",
       "      <th>user_id</th>\n",
       "      <th>order_number</th>\n",
       "      <th>order_time</th>\n",
       "    </tr>\n",
       "  </thead>\n",
       "  <tbody>\n",
       "    <tr>\n",
       "      <th>0</th>\n",
       "      <td>2539329</td>\n",
       "      <td>196</td>\n",
       "      <td>0</td>\n",
       "      <td>1</td>\n",
       "      <td>1</td>\n",
       "      <td>0</td>\n",
       "    </tr>\n",
       "    <tr>\n",
       "      <th>1</th>\n",
       "      <td>2398795</td>\n",
       "      <td>196</td>\n",
       "      <td>1</td>\n",
       "      <td>1</td>\n",
       "      <td>2</td>\n",
       "      <td>1</td>\n",
       "    </tr>\n",
       "    <tr>\n",
       "      <th>2</th>\n",
       "      <td>473747</td>\n",
       "      <td>196</td>\n",
       "      <td>1</td>\n",
       "      <td>1</td>\n",
       "      <td>3</td>\n",
       "      <td>2</td>\n",
       "    </tr>\n",
       "    <tr>\n",
       "      <th>3</th>\n",
       "      <td>2254736</td>\n",
       "      <td>196</td>\n",
       "      <td>1</td>\n",
       "      <td>1</td>\n",
       "      <td>4</td>\n",
       "      <td>3</td>\n",
       "    </tr>\n",
       "    <tr>\n",
       "      <th>4</th>\n",
       "      <td>431534</td>\n",
       "      <td>196</td>\n",
       "      <td>1</td>\n",
       "      <td>1</td>\n",
       "      <td>5</td>\n",
       "      <td>4</td>\n",
       "    </tr>\n",
       "  </tbody>\n",
       "</table>\n",
       "</div>"
      ],
      "text/plain": [
       "   order_id  product_id  reordered  user_id  order_number  order_time\n",
       "0   2539329         196          0        1             1           0\n",
       "1   2398795         196          1        1             2           1\n",
       "2    473747         196          1        1             3           2\n",
       "3   2254736         196          1        1             4           3\n",
       "4    431534         196          1        1             5           4"
      ]
     },
     "execution_count": 14,
     "metadata": {},
     "output_type": "execute_result"
    }
   ],
   "source": [
    "product.head()"
   ]
  },
  {
   "cell_type": "code",
   "execution_count": 4,
   "metadata": {
    "collapsed": true
   },
   "outputs": [],
   "source": [
    "second_order_ratio = lambda x: x[x==1].count()/x[x==0].count()\n",
    "\n",
    "p1 = product[['product_id', 'order_time']]\n",
    "p1 = p1.groupby(by='product_id')['order_time'].agg({\"second_order_ratio\": second_order_ratio})"
   ]
  },
  {
   "cell_type": "code",
   "execution_count": 5,
   "metadata": {
    "collapsed": true
   },
   "outputs": [],
   "source": [
    "avg_reorder_ratio = lambda x: x.count()/x[x==0].count()\n",
    "\n",
    "p2 = product[['product_id', 'reordered']]\n",
    "p2 = p2.groupby(by='product_id')['reordered'].agg({'avg_reorder_ratio': avg_reorder_ratio})"
   ]
  },
  {
   "cell_type": "code",
   "execution_count": 6,
   "metadata": {
    "collapsed": true
   },
   "outputs": [],
   "source": [
    "product_feature = pd.concat([p1, p2], axis=1, names=['second_order_ratio', 'avg_reorder_ratio'])"
   ]
  },
  {
   "cell_type": "code",
   "execution_count": 7,
   "metadata": {
    "collapsed": true
   },
   "outputs": [],
   "source": [
    "product_type = pd.read_csv(data + \"products.csv\", dtype={\n",
    "    'product_id': np.uint16,\n",
    "    'product_name': str,\n",
    "    'aisle_id': np.uint8,\n",
    "    'department_id': np.uint8\n",
    "}, usecols=['product_id', 'aisle_id', 'department_id'], engine='c')"
   ]
  },
  {
   "cell_type": "code",
   "execution_count": 8,
   "metadata": {
    "collapsed": true
   },
   "outputs": [],
   "source": [
    "product_time = pd.read_csv(data + 'orders.csv', dtype={\n",
    "        'order_id': np.int32,\n",
    "        'user_id': np.int32,\n",
    "        'eval_set': 'category',\n",
    "        'order_number': np.int16,\n",
    "        'order_dow': np.int8,\n",
    "        'order_hour_of_day': np.int8,\n",
    "        'days_since_prior_order': np.float32}, usecols = ['order_id', 'order_dow', 'order_hour_of_day'], engine='c')\n",
    "product_time = pd.merge(priors, product_time, on='order_id').drop('reordered', axis=1)"
   ]
  },
  {
   "cell_type": "code",
   "execution_count": 18,
   "metadata": {},
   "outputs": [
    {
     "data": {
      "text/html": [
       "<div>\n",
       "<table border=\"1\" class=\"dataframe\">\n",
       "  <thead>\n",
       "    <tr style=\"text-align: right;\">\n",
       "      <th></th>\n",
       "      <th>order_id</th>\n",
       "      <th>product_id</th>\n",
       "      <th>order_dow</th>\n",
       "      <th>order_hour_of_day</th>\n",
       "    </tr>\n",
       "  </thead>\n",
       "  <tbody>\n",
       "    <tr>\n",
       "      <th>0</th>\n",
       "      <td>2</td>\n",
       "      <td>33120</td>\n",
       "      <td>5</td>\n",
       "      <td>9</td>\n",
       "    </tr>\n",
       "    <tr>\n",
       "      <th>1</th>\n",
       "      <td>2</td>\n",
       "      <td>28985</td>\n",
       "      <td>5</td>\n",
       "      <td>9</td>\n",
       "    </tr>\n",
       "    <tr>\n",
       "      <th>2</th>\n",
       "      <td>2</td>\n",
       "      <td>9327</td>\n",
       "      <td>5</td>\n",
       "      <td>9</td>\n",
       "    </tr>\n",
       "    <tr>\n",
       "      <th>3</th>\n",
       "      <td>2</td>\n",
       "      <td>45918</td>\n",
       "      <td>5</td>\n",
       "      <td>9</td>\n",
       "    </tr>\n",
       "    <tr>\n",
       "      <th>4</th>\n",
       "      <td>2</td>\n",
       "      <td>30035</td>\n",
       "      <td>5</td>\n",
       "      <td>9</td>\n",
       "    </tr>\n",
       "  </tbody>\n",
       "</table>\n",
       "</div>"
      ],
      "text/plain": [
       "   order_id  product_id  order_dow  order_hour_of_day\n",
       "0         2       33120          5                  9\n",
       "1         2       28985          5                  9\n",
       "2         2        9327          5                  9\n",
       "3         2       45918          5                  9\n",
       "4         2       30035          5                  9"
      ]
     },
     "execution_count": 18,
     "metadata": {},
     "output_type": "execute_result"
    }
   ],
   "source": []
  },
  {
   "cell_type": "code",
   "execution_count": 9,
   "metadata": {
    "collapsed": true,
    "scrolled": true
   },
   "outputs": [],
   "source": [
    "p3 = product_time[['product_id', 'order_dow', 'order_id']].groupby(by=['product_id', 'order_dow']).agg('count').reset_index()\n",
    "p3 = p3.rename(columns={'order_id': 'week_cnt'})\n",
    "p4 = product_time[['product_id', 'order_hour_of_day', 'order_id']].groupby(by=['product_id', 'order_hour_of_day']).agg('count').reset_index()\n",
    "p4 = p4.rename(columns={'order_id': 'hour_cnt'})\n",
    "p5 = p3.groupby(by='product_id')['week_cnt'].agg('sum').reset_index().rename(columns={'week_cnt': 'total'})"
   ]
  },
  {
   "cell_type": "code",
   "execution_count": 10,
   "metadata": {
    "collapsed": true
   },
   "outputs": [],
   "source": [
    "# no normalization\n",
    "p3 = p3.merge(p5, on='product_id')\n",
    "p3['product_week_prob'] = p3.week_cnt/p3.total\n",
    "p4 = p4.merge(p5, on='product_id')\n",
    "p4['product_hour_prob'] = p4.hour_cnt/p4.total"
   ]
  },
  {
   "cell_type": "code",
   "execution_count": 4,
   "metadata": {},
   "outputs": [],
   "source": [
    "# with normalization\n",
    "product_only = pd.DataFrame(data={\n",
    "    \"product_id\": product.product_id.drop_duplicates(),\n",
    "    \"jk\": int(1)\n",
    "})\n",
    "week_only = pd.DataFrame(data={\n",
    "    \"order_dow\": np.arange(7, dtype=np.int8),\n",
    "    \"jk\": int(1)\n",
    "})\n",
    "hour_only = pd.DataFrame(data={\n",
    "    \"order_hour_of_day\": np.arange(24, dtype=np.int8),\n",
    "    \"jk\": int(1)\n",
    "})\n",
    "p3 = pd.merge(product_only, week_only, on=\"jk\")\n",
    "p4 = pd.merge(product_only, hour_only, on=\"jk\")"
   ]
  },
  {
   "cell_type": "code",
   "execution_count": 6,
   "metadata": {},
   "outputs": [
    {
     "data": {
      "text/html": [
       "<div>\n",
       "<table border=\"1\" class=\"dataframe\">\n",
       "  <thead>\n",
       "    <tr style=\"text-align: right;\">\n",
       "      <th></th>\n",
       "      <th>jk</th>\n",
       "      <th>product_id</th>\n",
       "      <th>order_hour_of_day</th>\n",
       "    </tr>\n",
       "  </thead>\n",
       "  <tbody>\n",
       "    <tr>\n",
       "      <th>0</th>\n",
       "      <td>1</td>\n",
       "      <td>196</td>\n",
       "      <td>0</td>\n",
       "    </tr>\n",
       "    <tr>\n",
       "      <th>1</th>\n",
       "      <td>1</td>\n",
       "      <td>196</td>\n",
       "      <td>1</td>\n",
       "    </tr>\n",
       "    <tr>\n",
       "      <th>2</th>\n",
       "      <td>1</td>\n",
       "      <td>196</td>\n",
       "      <td>2</td>\n",
       "    </tr>\n",
       "    <tr>\n",
       "      <th>3</th>\n",
       "      <td>1</td>\n",
       "      <td>196</td>\n",
       "      <td>3</td>\n",
       "    </tr>\n",
       "    <tr>\n",
       "      <th>4</th>\n",
       "      <td>1</td>\n",
       "      <td>196</td>\n",
       "      <td>4</td>\n",
       "    </tr>\n",
       "  </tbody>\n",
       "</table>\n",
       "</div>"
      ],
      "text/plain": [
       "   jk  product_id  order_hour_of_day\n",
       "0   1         196                  0\n",
       "1   1         196                  1\n",
       "2   1         196                  2\n",
       "3   1         196                  3\n",
       "4   1         196                  4"
      ]
     },
     "execution_count": 6,
     "metadata": {},
     "output_type": "execute_result"
    }
   ],
   "source": [
    "p4.head()"
   ]
  },
  {
   "cell_type": "code",
   "execution_count": 5,
   "metadata": {},
   "outputs": [],
   "source": [
    "p3 = p3.merge(product_time[['product_id', 'order_dow', 'order_id']].\\\n",
    "              groupby(by=['product_id', 'order_dow']).agg('count').reset_index().\\\n",
    "              rename(columns={'order_id': 'week_cnt'}),\n",
    "             how='left', on=['product_id', 'order_dow']).fillna(0)\n",
    "p3.week_cnt+=p3.jk\n",
    "p3 = p3.drop('jk', axis=1)\n"
   ]
  },
  {
   "cell_type": "code",
   "execution_count": 6,
   "metadata": {
    "scrolled": true
   },
   "outputs": [],
   "source": [
    "week_prob = lambda x: pd.DataFrame({\n",
    "    'product_id': x.product_id,\n",
    "    'order_dow': x.order_dow,\n",
    "    'week_prob': x.week_cnt/x.week_cnt.sum()}, index=x.index)\n",
    "p3 = p3.groupby(['product_id']).apply(week_prob)"
   ]
  },
  {
   "cell_type": "code",
   "execution_count": 7,
   "metadata": {},
   "outputs": [],
   "source": [
    "p4 = p4.merge(product_time[['product_id', 'order_hour_of_day', 'order_id']].\\\n",
    "              groupby(by=['product_id', 'order_hour_of_day']).agg('count').reset_index().\\\n",
    "              rename(columns={'order_id': 'hour_cnt'}),\n",
    "             how='left', on=['product_id', 'order_hour_of_day']).fillna(0)\n",
    "p4.hour_cnt+=p4.jk\n",
    "p4 = p4.drop('jk', axis=1)\n"
   ]
  },
  {
   "cell_type": "code",
   "execution_count": 8,
   "metadata": {},
   "outputs": [],
   "source": [
    "hour_prob = lambda x: pd.DataFrame({\n",
    "    'product_id': x.product_id,\n",
    "    'order_hour_of_day': x.order_hour_of_day,\n",
    "    'hour_prob': x.hour_cnt/x.hour_cnt.sum()}, index=x.index)\n",
    "p4 = p4.groupby(['product_id']).apply(hour_prob)"
   ]
  },
  {
   "cell_type": "code",
   "execution_count": 9,
   "metadata": {},
   "outputs": [
    {
     "data": {
      "text/html": [
       "<div>\n",
       "<table border=\"1\" class=\"dataframe\">\n",
       "  <thead>\n",
       "    <tr style=\"text-align: right;\">\n",
       "      <th></th>\n",
       "      <th>hour_prob</th>\n",
       "      <th>order_hour_of_day</th>\n",
       "      <th>product_id</th>\n",
       "    </tr>\n",
       "  </thead>\n",
       "  <tbody>\n",
       "    <tr>\n",
       "      <th>0</th>\n",
       "      <td>0.004775</td>\n",
       "      <td>0</td>\n",
       "      <td>196</td>\n",
       "    </tr>\n",
       "    <tr>\n",
       "      <th>1</th>\n",
       "      <td>0.002960</td>\n",
       "      <td>1</td>\n",
       "      <td>196</td>\n",
       "    </tr>\n",
       "    <tr>\n",
       "      <th>2</th>\n",
       "      <td>0.001787</td>\n",
       "      <td>2</td>\n",
       "      <td>196</td>\n",
       "    </tr>\n",
       "    <tr>\n",
       "      <th>3</th>\n",
       "      <td>0.001173</td>\n",
       "      <td>3</td>\n",
       "      <td>196</td>\n",
       "    </tr>\n",
       "    <tr>\n",
       "      <th>4</th>\n",
       "      <td>0.001368</td>\n",
       "      <td>4</td>\n",
       "      <td>196</td>\n",
       "    </tr>\n",
       "  </tbody>\n",
       "</table>\n",
       "</div>"
      ],
      "text/plain": [
       "   hour_prob  order_hour_of_day  product_id\n",
       "0   0.004775                  0         196\n",
       "1   0.002960                  1         196\n",
       "2   0.001787                  2         196\n",
       "3   0.001173                  3         196\n",
       "4   0.001368                  4         196"
      ]
     },
     "execution_count": 9,
     "metadata": {},
     "output_type": "execute_result"
    }
   ],
   "source": [
    "p4.head()"
   ]
  },
  {
   "cell_type": "code",
   "execution_count": 15,
   "metadata": {},
   "outputs": [
    {
     "data": {
      "text/html": [
       "<div>\n",
       "<table border=\"1\" class=\"dataframe\">\n",
       "  <thead>\n",
       "    <tr style=\"text-align: right;\">\n",
       "      <th></th>\n",
       "      <th>product_id</th>\n",
       "      <th>order_dow</th>\n",
       "      <th>week_cnt</th>\n",
       "    </tr>\n",
       "  </thead>\n",
       "  <tbody>\n",
       "    <tr>\n",
       "      <th>0</th>\n",
       "      <td>196</td>\n",
       "      <td>0</td>\n",
       "      <td>2535.0</td>\n",
       "    </tr>\n",
       "    <tr>\n",
       "      <th>1</th>\n",
       "      <td>196</td>\n",
       "      <td>1</td>\n",
       "      <td>7670.0</td>\n",
       "    </tr>\n",
       "    <tr>\n",
       "      <th>2</th>\n",
       "      <td>196</td>\n",
       "      <td>2</td>\n",
       "      <td>5954.0</td>\n",
       "    </tr>\n",
       "    <tr>\n",
       "      <th>3</th>\n",
       "      <td>196</td>\n",
       "      <td>3</td>\n",
       "      <td>5500.0</td>\n",
       "    </tr>\n",
       "    <tr>\n",
       "      <th>4</th>\n",
       "      <td>196</td>\n",
       "      <td>4</td>\n",
       "      <td>5462.0</td>\n",
       "    </tr>\n",
       "  </tbody>\n",
       "</table>\n",
       "</div>"
      ],
      "text/plain": [
       "   product_id  order_dow  week_cnt\n",
       "0         196          0    2535.0\n",
       "1         196          1    7670.0\n",
       "2         196          2    5954.0\n",
       "3         196          3    5500.0\n",
       "4         196          4    5462.0"
      ]
     },
     "execution_count": 15,
     "metadata": {},
     "output_type": "execute_result"
    }
   ],
   "source": [
    "p3.head()"
   ]
  },
  {
   "cell_type": "markdown",
   "metadata": {},
   "source": [
    "<hr/>\n",
    "\n",
    "User-product feature:\n",
    "\n",
    "* up_order_rate <- up_orders / user_orders\n",
    "* up_orders_since_last_order <- user_orders - up_last_order\n",
    "* up_order_rate_since_first_order <- up_orders / (user_orders - up_first_order + 1)\n",
    "* up_orders = n()\n"
   ]
  },
  {
   "cell_type": "code",
   "execution_count": 32,
   "metadata": {
    "scrolled": true
   },
   "outputs": [
    {
     "data": {
      "text/html": [
       "<div>\n",
       "<table border=\"1\" class=\"dataframe\">\n",
       "  <thead>\n",
       "    <tr style=\"text-align: right;\">\n",
       "      <th></th>\n",
       "      <th>order_id</th>\n",
       "      <th>product_id</th>\n",
       "      <th>reordered</th>\n",
       "      <th>user_id</th>\n",
       "      <th>order_number</th>\n",
       "      <th>user_order_count</th>\n",
       "      <th>user_prod_order_count</th>\n",
       "    </tr>\n",
       "  </thead>\n",
       "  <tbody>\n",
       "    <tr>\n",
       "      <th>0</th>\n",
       "      <td>2539329</td>\n",
       "      <td>196</td>\n",
       "      <td>0</td>\n",
       "      <td>1</td>\n",
       "      <td>1</td>\n",
       "      <td>10</td>\n",
       "      <td>10</td>\n",
       "    </tr>\n",
       "    <tr>\n",
       "      <th>1</th>\n",
       "      <td>2398795</td>\n",
       "      <td>196</td>\n",
       "      <td>1</td>\n",
       "      <td>1</td>\n",
       "      <td>2</td>\n",
       "      <td>10</td>\n",
       "      <td>10</td>\n",
       "    </tr>\n",
       "    <tr>\n",
       "      <th>2</th>\n",
       "      <td>473747</td>\n",
       "      <td>196</td>\n",
       "      <td>1</td>\n",
       "      <td>1</td>\n",
       "      <td>3</td>\n",
       "      <td>10</td>\n",
       "      <td>10</td>\n",
       "    </tr>\n",
       "    <tr>\n",
       "      <th>3</th>\n",
       "      <td>2254736</td>\n",
       "      <td>196</td>\n",
       "      <td>1</td>\n",
       "      <td>1</td>\n",
       "      <td>4</td>\n",
       "      <td>10</td>\n",
       "      <td>10</td>\n",
       "    </tr>\n",
       "    <tr>\n",
       "      <th>4</th>\n",
       "      <td>431534</td>\n",
       "      <td>196</td>\n",
       "      <td>1</td>\n",
       "      <td>1</td>\n",
       "      <td>5</td>\n",
       "      <td>10</td>\n",
       "      <td>10</td>\n",
       "    </tr>\n",
       "  </tbody>\n",
       "</table>\n",
       "</div>"
      ],
      "text/plain": [
       "   order_id  product_id  reordered  user_id  order_number  user_order_count  \\\n",
       "0   2539329         196          0        1             1                10   \n",
       "1   2398795         196          1        1             2                10   \n",
       "2    473747         196          1        1             3                10   \n",
       "3   2254736         196          1        1             4                10   \n",
       "4    431534         196          1        1             5                10   \n",
       "\n",
       "   user_prod_order_count  \n",
       "0                     10  \n",
       "1                     10  \n",
       "2                     10  \n",
       "3                     10  \n",
       "4                     10  "
      ]
     },
     "execution_count": 32,
     "metadata": {},
     "output_type": "execute_result"
    }
   ],
   "source": [
    "product.head()"
   ]
  },
  {
   "cell_type": "code",
   "execution_count": 11,
   "metadata": {
    "collapsed": true
   },
   "outputs": [],
   "source": [
    "user_order_cnt = product.groupby(by='user_id')['order_number'].max().\\\n",
    "reset_index().rename(columns={'order_number': 'user_order_count'})"
   ]
  },
  {
   "cell_type": "code",
   "execution_count": 12,
   "metadata": {
    "collapsed": true
   },
   "outputs": [],
   "source": [
    "up0 = product.groupby(by=['user_id', 'product_id'])['order_number'].agg(['min', 'max', 'count']).reset_index()"
   ]
  },
  {
   "cell_type": "code",
   "execution_count": 13,
   "metadata": {
    "collapsed": true
   },
   "outputs": [],
   "source": [
    "up0 = up0.merge(user_order_cnt, on='user_id')"
   ]
  },
  {
   "cell_type": "code",
   "execution_count": 14,
   "metadata": {},
   "outputs": [
    {
     "data": {
      "text/html": [
       "<div>\n",
       "<table border=\"1\" class=\"dataframe\">\n",
       "  <thead>\n",
       "    <tr style=\"text-align: right;\">\n",
       "      <th></th>\n",
       "      <th>user_id</th>\n",
       "      <th>product_id</th>\n",
       "      <th>user_product_order_cnt</th>\n",
       "      <th>user_prod_order_rate</th>\n",
       "      <th>user_prod_last_vacancy</th>\n",
       "      <th>user_prod_order_freq</th>\n",
       "    </tr>\n",
       "  </thead>\n",
       "  <tbody>\n",
       "    <tr>\n",
       "      <th>0</th>\n",
       "      <td>1</td>\n",
       "      <td>196</td>\n",
       "      <td>10</td>\n",
       "      <td>1.0</td>\n",
       "      <td>1</td>\n",
       "      <td>1.000000</td>\n",
       "    </tr>\n",
       "    <tr>\n",
       "      <th>1</th>\n",
       "      <td>1</td>\n",
       "      <td>10258</td>\n",
       "      <td>9</td>\n",
       "      <td>0.9</td>\n",
       "      <td>1</td>\n",
       "      <td>1.000000</td>\n",
       "    </tr>\n",
       "    <tr>\n",
       "      <th>2</th>\n",
       "      <td>1</td>\n",
       "      <td>10326</td>\n",
       "      <td>1</td>\n",
       "      <td>0.1</td>\n",
       "      <td>6</td>\n",
       "      <td>1.000000</td>\n",
       "    </tr>\n",
       "    <tr>\n",
       "      <th>3</th>\n",
       "      <td>1</td>\n",
       "      <td>12427</td>\n",
       "      <td>10</td>\n",
       "      <td>1.0</td>\n",
       "      <td>1</td>\n",
       "      <td>1.000000</td>\n",
       "    </tr>\n",
       "    <tr>\n",
       "      <th>4</th>\n",
       "      <td>1</td>\n",
       "      <td>13032</td>\n",
       "      <td>3</td>\n",
       "      <td>0.3</td>\n",
       "      <td>1</td>\n",
       "      <td>0.333333</td>\n",
       "    </tr>\n",
       "  </tbody>\n",
       "</table>\n",
       "</div>"
      ],
      "text/plain": [
       "   user_id  product_id  user_product_order_cnt  user_prod_order_rate  \\\n",
       "0        1         196                      10                   1.0   \n",
       "1        1       10258                       9                   0.9   \n",
       "2        1       10326                       1                   0.1   \n",
       "3        1       12427                      10                   1.0   \n",
       "4        1       13032                       3                   0.3   \n",
       "\n",
       "   user_prod_last_vacancy  user_prod_order_freq  \n",
       "0                       1              1.000000  \n",
       "1                       1              1.000000  \n",
       "2                       6              1.000000  \n",
       "3                       1              1.000000  \n",
       "4                       1              0.333333  "
      ]
     },
     "execution_count": 14,
     "metadata": {},
     "output_type": "execute_result"
    }
   ],
   "source": [
    "up0.head()"
   ]
  },
  {
   "cell_type": "code",
   "execution_count": 14,
   "metadata": {
    "collapsed": true
   },
   "outputs": [],
   "source": [
    "up0['user_prod_order_rate'] = up0['count']/up0['user_order_count']"
   ]
  },
  {
   "cell_type": "code",
   "execution_count": 15,
   "metadata": {
    "collapsed": true
   },
   "outputs": [],
   "source": [
    "up0['user_prod_last_vacancy'] = up0['user_order_count']-up0['max']+1\n",
    "up0['user_prod_order_freq'] = up0['count']/(up0['max']-up0['min']+1)"
   ]
  },
  {
   "cell_type": "code",
   "execution_count": 16,
   "metadata": {
    "collapsed": true
   },
   "outputs": [],
   "source": [
    "up0 = up0.drop(['min', 'max', 'user_order_count'], axis=1).rename(columns={'count': 'user_product_order_cnt'})"
   ]
  },
  {
   "cell_type": "markdown",
   "metadata": {
    "collapsed": true
   },
   "source": [
    "<hr/>\n",
    "\n",
    "user related feature\n",
    "\n",
    "* user_reorder_ratio: whether user like to order new stuff or not\n",
    "* user_distinct_items:\n",
    "* user_total_items:\n",
    "* user_avg_item:"
   ]
  },
  {
   "cell_type": "code",
   "execution_count": 17,
   "metadata": {
    "collapsed": true
   },
   "outputs": [],
   "source": [
    "u1 = product[product['order_number']!=1].groupby('user_id')['reordered', 'order_number'].agg({'reordered': 'sum', 'order_number': 'count'}).reset_index()\n",
    "u1['user_reorder_ratio']=u1['reordered']/u1['order_number']\n",
    "u1 = u1.drop(['order_number', 'reordered'], axis=1)"
   ]
  },
  {
   "cell_type": "code",
   "execution_count": 4,
   "metadata": {},
   "outputs": [
    {
     "data": {
      "text/html": [
       "<div>\n",
       "<table border=\"1\" class=\"dataframe\">\n",
       "  <thead>\n",
       "    <tr style=\"text-align: right;\">\n",
       "      <th></th>\n",
       "      <th>order_id</th>\n",
       "      <th>product_id</th>\n",
       "      <th>reordered</th>\n",
       "      <th>user_id</th>\n",
       "      <th>order_number</th>\n",
       "      <th>order_time</th>\n",
       "    </tr>\n",
       "  </thead>\n",
       "  <tbody>\n",
       "    <tr>\n",
       "      <th>0</th>\n",
       "      <td>2539329</td>\n",
       "      <td>196</td>\n",
       "      <td>0</td>\n",
       "      <td>1</td>\n",
       "      <td>1</td>\n",
       "      <td>0</td>\n",
       "    </tr>\n",
       "    <tr>\n",
       "      <th>1</th>\n",
       "      <td>2539329</td>\n",
       "      <td>12427</td>\n",
       "      <td>0</td>\n",
       "      <td>1</td>\n",
       "      <td>1</td>\n",
       "      <td>0</td>\n",
       "    </tr>\n",
       "    <tr>\n",
       "      <th>2</th>\n",
       "      <td>2539329</td>\n",
       "      <td>14084</td>\n",
       "      <td>0</td>\n",
       "      <td>1</td>\n",
       "      <td>1</td>\n",
       "      <td>0</td>\n",
       "    </tr>\n",
       "    <tr>\n",
       "      <th>3</th>\n",
       "      <td>2539329</td>\n",
       "      <td>26088</td>\n",
       "      <td>0</td>\n",
       "      <td>1</td>\n",
       "      <td>1</td>\n",
       "      <td>0</td>\n",
       "    </tr>\n",
       "    <tr>\n",
       "      <th>4</th>\n",
       "      <td>2539329</td>\n",
       "      <td>26405</td>\n",
       "      <td>0</td>\n",
       "      <td>1</td>\n",
       "      <td>1</td>\n",
       "      <td>0</td>\n",
       "    </tr>\n",
       "  </tbody>\n",
       "</table>\n",
       "</div>"
      ],
      "text/plain": [
       "   order_id  product_id  reordered  user_id  order_number  order_time\n",
       "0   2539329         196          0        1             1           0\n",
       "1   2539329       12427          0        1             1           0\n",
       "2   2539329       14084          0        1             1           0\n",
       "3   2539329       26088          0        1             1           0\n",
       "4   2539329       26405          0        1             1           0"
      ]
     },
     "execution_count": 4,
     "metadata": {},
     "output_type": "execute_result"
    }
   ],
   "source": [
    "product.head()"
   ]
  },
  {
   "cell_type": "code",
   "execution_count": 18,
   "metadata": {},
   "outputs": [],
   "source": [
    "u2 = product[['user_id', 'order_id', 'product_id']].groupby(by='user_id').agg({'order_id': pd.Series.nunique, 'product_id': {'user_distinct_items': pd.Series.nunique, 'user_total_items': 'count'}}).reset_index()\n",
    "u2.columns=[['user_id', 'user_distinct_items', 'user_total_items', 'user_orders']]"
   ]
  },
  {
   "cell_type": "code",
   "execution_count": 19,
   "metadata": {},
   "outputs": [],
   "source": [
    "u2['user_avg_items'] = u2.user_total_items/u2.user_orders"
   ]
  },
  {
   "cell_type": "code",
   "execution_count": 20,
   "metadata": {},
   "outputs": [],
   "source": [
    "u2.drop('user_orders', axis=1, inplace=True)"
   ]
  },
  {
   "cell_type": "code",
   "execution_count": 21,
   "metadata": {
    "collapsed": true
   },
   "outputs": [],
   "source": [
    "u3 = pd.read_csv(data + 'orders.csv', dtype={\n",
    "        'order_id': np.int32,\n",
    "        'user_id': np.int32,\n",
    "        'eval_set': 'category',\n",
    "        'order_number': np.int16,\n",
    "        'order_dow': np.int8,\n",
    "        'order_hour_of_day': np.int8,\n",
    "        'days_since_prior_order': np.float32}, usecols = ['order_id', 'user_id', 'days_since_prior_order'], engine='c')"
   ]
  },
  {
   "cell_type": "code",
   "execution_count": 22,
   "metadata": {},
   "outputs": [],
   "source": [
    "u3 = u3.dropna().groupby(by='user_id')['days_since_prior_order'].agg('mean').reset_index().rename(columns={'days_since_prior_order': 'user_interval_avg'})"
   ]
  },
  {
   "cell_type": "code",
   "execution_count": 23,
   "metadata": {
    "collapsed": true
   },
   "outputs": [],
   "source": [
    "ut = pd.read_csv(data + 'orders.csv', dtype={\n",
    "        'order_id': np.int32,\n",
    "        'user_id': np.int32,\n",
    "        'eval_set': 'category',\n",
    "        'order_number': np.int16,\n",
    "        'order_dow': np.int8,\n",
    "        'order_hour_of_day': np.int8,\n",
    "        'days_since_prior_order': np.float32}, usecols = ['order_id', 'user_id', 'order_dow', 'order_hour_of_day'], engine='c')\n",
    "ut = ut.merge(priors[['order_id', 'product_id']], on='order_id')"
   ]
  },
  {
   "cell_type": "code",
   "execution_count": 24,
   "metadata": {},
   "outputs": [],
   "source": [
    "u4 = ut.groupby(by=['user_id', 'order_dow']).agg({'order_id': pd.Series.nunique}).reset_index().rename(columns={\"order_id\": \"week_cnt\"}).\\\n",
    "groupby(by='user_id').apply(lambda x: pd.DataFrame({\n",
    "    'user_id': x.user_id,\n",
    "    'order_dow': x.order_dow,\n",
    "    'user_week_prob': x.week_cnt/x.week_cnt.sum()\n",
    "}, index=x.index))"
   ]
  },
  {
   "cell_type": "code",
   "execution_count": 25,
   "metadata": {},
   "outputs": [],
   "source": [
    "u5 = ut.groupby(by=['user_id', 'order_hour_of_day']).agg({'order_id': pd.Series.nunique}).reset_index().rename(columns={\"order_id\": \"hour_cnt\"}).\\\n",
    "groupby(by='user_id').apply(lambda x: pd.DataFrame({\n",
    "    'user_id': x.user_id,\n",
    "    'order_hour_of_day': x.order_hour_of_day,\n",
    "    'user_hour_prob': x.hour_cnt/x.hour_cnt.sum()\n",
    "}, index=x.index))"
   ]
  },
  {
   "cell_type": "markdown",
   "metadata": {},
   "source": [
    "<hr/>\n",
    "\n",
    "order related feature\n",
    "\n",
    "* order_vacancy"
   ]
  },
  {
   "cell_type": "code",
   "execution_count": 38,
   "metadata": {
    "collapsed": true
   },
   "outputs": [],
   "source": [
    "o1 = pd.read_csv(data + 'orders.csv', dtype={\n",
    "        'order_id': np.int32,\n",
    "        'user_id': np.int32,\n",
    "        'eval_set': 'category',\n",
    "        'order_number': np.int16,\n",
    "        'order_dow': np.int8,\n",
    "        'order_hour_of_day': np.int8,\n",
    "        'days_since_prior_order': np.float32}, usecols = ['order_id', 'order_dow', 'order_hour_of_day', 'days_since_prior_order'], engine='c')"
   ]
  },
  {
   "cell_type": "markdown",
   "metadata": {},
   "source": [
    "<hr/>\n",
    "\n",
    "join with training set"
   ]
  },
  {
   "cell_type": "code",
   "execution_count": 27,
   "metadata": {
    "collapsed": true
   },
   "outputs": [],
   "source": [
    "train = pd.read_csv(data+\"train.tsv\", sep='\\t', dtype={\n",
    "    'order_id': np.int32,\n",
    "    'user_id': np.int32,\n",
    "    'product_id': np.uint16,\n",
    "    'label': np.int8\n",
    "})"
   ]
  },
  {
   "cell_type": "code",
   "execution_count": 28,
   "metadata": {
    "collapsed": true
   },
   "outputs": [],
   "source": [
    "# for product feature, there are p0 (equivalent to p1, p2), product_type\n",
    "p0 = product_feature.reset_index()\n",
    "p0.columns=['product_id', 'second_order_ratio', 'avg_reorder_ratio']\n",
    "train = train.merge(p0, on='product_id').merge(product_type, on='product_id')"
   ]
  },
  {
   "cell_type": "code",
   "execution_count": 30,
   "metadata": {},
   "outputs": [],
   "source": [
    "# for user-product feature, there are up0\n",
    "train = train.merge(up0, on=['user_id', 'product_id'])"
   ]
  },
  {
   "cell_type": "code",
   "execution_count": 34,
   "metadata": {
    "scrolled": true
   },
   "outputs": [],
   "source": [
    "# for user feature, there are u1, u2, u3\n",
    "train = train.merge(u1, on='user_id').merge(u2, on='user_id').merge(u3, on='user_id')"
   ]
  },
  {
   "cell_type": "code",
   "execution_count": 40,
   "metadata": {},
   "outputs": [],
   "source": [
    "# join with current order time and delay information\n",
    "# in the meantime, join with p3, p4, u4 and u5\n",
    "train = train.merge(o1, on='order_id')"
   ]
  },
  {
   "cell_type": "code",
   "execution_count": 51,
   "metadata": {},
   "outputs": [],
   "source": [
    "train = train.merge(p3[['product_id', 'order_dow', 'product_week_prob']], how='left', on=['product_id', 'order_dow']).\\\n",
    "merge(p4[['product_id', 'order_hour_of_day', 'product_hour_prob']], how='left', on=['product_id', 'order_hour_of_day']).\\\n",
    "merge(u4[['user_id', 'order_dow', 'user_week_prob']], how='left', on=['user_id', 'order_dow']).\\\n",
    "merge(u5[['user_id', 'order_hour_of_day', 'user_hour_prob']], how='left', on=['user_id', 'order_hour_of_day'])"
   ]
  },
  {
   "cell_type": "code",
   "execution_count": 52,
   "metadata": {},
   "outputs": [],
   "source": [
    "train.fillna(0)\n",
    "# compute some additional features\n",
    "# user: days_since_ratio: days_since_prior_order/user_interval_avg\n",
    "train['user_days_since_prior_ratio'] = train.days_since_prior_order/train.user_interval_avg"
   ]
  },
  {
   "cell_type": "code",
   "execution_count": 53,
   "metadata": {
    "collapsed": true
   },
   "outputs": [],
   "source": [
    "train.to_hdf(\"/mnt/d/Data/Instacart/dataset.hdf\", \"train\")"
   ]
  },
  {
   "cell_type": "markdown",
   "metadata": {
    "collapsed": true
   },
   "source": [
    "join with test set"
   ]
  },
  {
   "cell_type": "code",
   "execution_count": 54,
   "metadata": {
    "collapsed": true
   },
   "outputs": [],
   "source": [
    "test = pd.read_csv(data+\"test.tsv\", sep='\\t', dtype={\n",
    "    'order_id': np.int32,\n",
    "    'user_id': np.int32,\n",
    "    'product_id': np.uint16\n",
    "})\n",
    "\n",
    "test = test.merge(p0, on='product_id').merge(product_type, on='product_id')\n",
    "test = test.merge(up0, on=['user_id', 'product_id'])\n",
    "test = test.merge(u1, on='user_id').merge(u2, on='user_id').merge(u3, on='user_id')\n",
    "test = test.merge(o1, on='order_id')\n",
    "test = test.merge(p3[['product_id', 'order_dow', 'product_week_prob']], how='left', on=['product_id', 'order_dow']).\\\n",
    "merge(p4[['product_id', 'order_hour_of_day', 'product_hour_prob']], how='left', on=['product_id', 'order_hour_of_day']).\\\n",
    "merge(u4[['user_id', 'order_dow', 'user_week_prob']], how='left', on=['user_id', 'order_dow']).\\\n",
    "merge(u5[['user_id', 'order_hour_of_day', 'user_hour_prob']], how='left', on=['user_id', 'order_hour_of_day'])\n",
    "test.fillna(0)\n",
    "test['user_days_since_prior_ratio'] = test.days_since_prior_order/test.user_interval_avg"
   ]
  },
  {
   "cell_type": "code",
   "execution_count": 55,
   "metadata": {
    "collapsed": true
   },
   "outputs": [],
   "source": [
    "test.to_hdf(\"/mnt/d/Data/Instacart/dataset.hdf\", \"test\")"
   ]
  },
  {
   "cell_type": "code",
   "execution_count": null,
   "metadata": {
    "collapsed": true
   },
   "outputs": [],
   "source": []
  }
 ],
 "metadata": {
  "kernelspec": {
   "display_name": "Python 3",
   "language": "python",
   "name": "python3"
  },
  "language_info": {
   "codemirror_mode": {
    "name": "ipython",
    "version": 3
   },
   "file_extension": ".py",
   "mimetype": "text/x-python",
   "name": "python",
   "nbconvert_exporter": "python",
   "pygments_lexer": "ipython3",
   "version": "3.5.2"
  }
 },
 "nbformat": 4,
 "nbformat_minor": 2
}
