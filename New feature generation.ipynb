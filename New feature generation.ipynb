{
 "cells": [
  {
   "cell_type": "code",
   "execution_count": 1,
   "metadata": {
    "collapsed": true
   },
   "outputs": [],
   "source": [
    "import numpy as np\n",
    "import pandas as pd\n",
    "\n",
    "data = \"/mnt/d/Data/Instacart/\"\n",
    "\n",
    "priors = pd.read_csv(data + 'order_products__prior.csv', dtype={\n",
    "            'order_id': np.int32,\n",
    "            'product_id': np.uint16,\n",
    "            'add_to_cart_order': np.int16,\n",
    "            'reordered': np.int8}, usecols = ['order_id', 'product_id', 'reordered'], engine='c')\n",
    "\n",
    "orders = pd.read_csv(data + 'orders.csv', dtype={\n",
    "        'order_id': np.int32,\n",
    "        'user_id': np.int32,\n",
    "        'eval_set': 'category',\n",
    "        'order_number': np.int16,\n",
    "        'order_dow': np.int8,\n",
    "        'order_hour_of_day': np.int8,\n",
    "        'days_since_prior_order': np.float32}, usecols = ['order_id', 'user_id', 'order_number', 'days_since_prior_order'], engine='c')\n",
    "orders['interval_accu'] = orders.groupby(by='user_id')['days_since_prior_order'].cumsum().fillna(0)\n",
    "\n",
    "product = pd.merge(priors, orders, on='order_id').sort_values(by=['user_id', 'order_number', 'product_id']).reset_index(drop=True)\n",
    "product['order_time']=product.groupby(by=['product_id', 'user_id']).cumcount()"
   ]
  },
  {
   "cell_type": "code",
   "execution_count": 22,
   "metadata": {},
   "outputs": [
    {
     "data": {
      "text/html": [
       "<div>\n",
       "<table border=\"1\" class=\"dataframe\">\n",
       "  <thead>\n",
       "    <tr style=\"text-align: right;\">\n",
       "      <th></th>\n",
       "      <th>order_id</th>\n",
       "      <th>product_id</th>\n",
       "      <th>reordered</th>\n",
       "      <th>user_id</th>\n",
       "      <th>order_number</th>\n",
       "      <th>days_since_prior_order</th>\n",
       "      <th>interval_accu</th>\n",
       "      <th>order_time</th>\n",
       "    </tr>\n",
       "  </thead>\n",
       "  <tbody>\n",
       "    <tr>\n",
       "      <th>0</th>\n",
       "      <td>2539329</td>\n",
       "      <td>196</td>\n",
       "      <td>0</td>\n",
       "      <td>1</td>\n",
       "      <td>1</td>\n",
       "      <td>NaN</td>\n",
       "      <td>0.0</td>\n",
       "      <td>0</td>\n",
       "    </tr>\n",
       "    <tr>\n",
       "      <th>1</th>\n",
       "      <td>2539329</td>\n",
       "      <td>12427</td>\n",
       "      <td>0</td>\n",
       "      <td>1</td>\n",
       "      <td>1</td>\n",
       "      <td>NaN</td>\n",
       "      <td>0.0</td>\n",
       "      <td>0</td>\n",
       "    </tr>\n",
       "    <tr>\n",
       "      <th>2</th>\n",
       "      <td>2539329</td>\n",
       "      <td>14084</td>\n",
       "      <td>0</td>\n",
       "      <td>1</td>\n",
       "      <td>1</td>\n",
       "      <td>NaN</td>\n",
       "      <td>0.0</td>\n",
       "      <td>0</td>\n",
       "    </tr>\n",
       "    <tr>\n",
       "      <th>3</th>\n",
       "      <td>2539329</td>\n",
       "      <td>26088</td>\n",
       "      <td>0</td>\n",
       "      <td>1</td>\n",
       "      <td>1</td>\n",
       "      <td>NaN</td>\n",
       "      <td>0.0</td>\n",
       "      <td>0</td>\n",
       "    </tr>\n",
       "    <tr>\n",
       "      <th>4</th>\n",
       "      <td>2539329</td>\n",
       "      <td>26405</td>\n",
       "      <td>0</td>\n",
       "      <td>1</td>\n",
       "      <td>1</td>\n",
       "      <td>NaN</td>\n",
       "      <td>0.0</td>\n",
       "      <td>0</td>\n",
       "    </tr>\n",
       "  </tbody>\n",
       "</table>\n",
       "</div>"
      ],
      "text/plain": [
       "   order_id  product_id  reordered  user_id  order_number  \\\n",
       "0   2539329         196          0        1             1   \n",
       "1   2539329       12427          0        1             1   \n",
       "2   2539329       14084          0        1             1   \n",
       "3   2539329       26088          0        1             1   \n",
       "4   2539329       26405          0        1             1   \n",
       "\n",
       "   days_since_prior_order  interval_accu  order_time  \n",
       "0                     NaN            0.0           0  \n",
       "1                     NaN            0.0           0  \n",
       "2                     NaN            0.0           0  \n",
       "3                     NaN            0.0           0  \n",
       "4                     NaN            0.0           0  "
      ]
     },
     "execution_count": 22,
     "metadata": {},
     "output_type": "execute_result"
    }
   ],
   "source": [
    "product.head()"
   ]
  },
  {
   "cell_type": "code",
   "execution_count": null,
   "metadata": {
    "collapsed": true
   },
   "outputs": [],
   "source": []
  },
  {
   "cell_type": "code",
   "execution_count": 3,
   "metadata": {
    "collapsed": true
   },
   "outputs": [],
   "source": [
    "# user features\n",
    "u1 = product[['user_id', 'order_id']].groupby(by='user_id')['order_id'].agg({'user_norder': pd.Series.nunique, 'user_nitems': 'count'})"
   ]
  },
  {
   "cell_type": "code",
   "execution_count": 9,
   "metadata": {
    "scrolled": true
   },
   "outputs": [],
   "source": [
    "u2 = product[['user_id', 'product_id']].groupby(by='user_id')['product_id'].agg({\n",
    "    'user_ndistinctitems': pd.Series.nunique\n",
    "})\n",
    "u3 = product[['user_id', 'product_id']][product.reordered==1].groupby(by='user_id')['product_id'].agg({\n",
    "    'user_nritems': 'count',\n",
    "    'user_nrdistinctitems': pd.Series.nunique\n",
    "})"
   ]
  },
  {
   "cell_type": "code",
   "execution_count": 16,
   "metadata": {
    "scrolled": true
   },
   "outputs": [],
   "source": [
    "u4 = product[['user_id', 'order_id', 'days_since_prior_order']][~product.days_since_prior_order.isnull()].drop_duplicates().\\\n",
    "drop(['order_id'], axis=1).groupby(by='user_id')['days_since_prior_order'].agg({\n",
    "    'user_interval': 'mean'\n",
    "})"
   ]
  },
  {
   "cell_type": "code",
   "execution_count": 22,
   "metadata": {
    "scrolled": true
   },
   "outputs": [],
   "source": [
    "user_feature = u1.merge(u2, left_index=True, right_index=True).\\\n",
    "merge(u3, how='left', left_index=True, right_index=True).\\\n",
    "merge(u4, left_index=True, right_index=True)"
   ]
  },
  {
   "cell_type": "code",
   "execution_count": 24,
   "metadata": {},
   "outputs": [
    {
     "data": {
      "text/html": [
       "<div>\n",
       "<table border=\"1\" class=\"dataframe\">\n",
       "  <thead>\n",
       "    <tr style=\"text-align: right;\">\n",
       "      <th></th>\n",
       "      <th>user_nitems</th>\n",
       "      <th>user_norder</th>\n",
       "      <th>user_ndistinctitems</th>\n",
       "      <th>user_nrdistinctitems</th>\n",
       "      <th>user_nritems</th>\n",
       "      <th>user_interval</th>\n",
       "    </tr>\n",
       "    <tr>\n",
       "      <th>user_id</th>\n",
       "      <th></th>\n",
       "      <th></th>\n",
       "      <th></th>\n",
       "      <th></th>\n",
       "      <th></th>\n",
       "      <th></th>\n",
       "    </tr>\n",
       "  </thead>\n",
       "  <tbody>\n",
       "    <tr>\n",
       "      <th>1</th>\n",
       "      <td>59</td>\n",
       "      <td>10</td>\n",
       "      <td>18</td>\n",
       "      <td>10.0</td>\n",
       "      <td>41.0</td>\n",
       "      <td>19.555555</td>\n",
       "    </tr>\n",
       "    <tr>\n",
       "      <th>2</th>\n",
       "      <td>195</td>\n",
       "      <td>14</td>\n",
       "      <td>102</td>\n",
       "      <td>37.0</td>\n",
       "      <td>93.0</td>\n",
       "      <td>15.230769</td>\n",
       "    </tr>\n",
       "    <tr>\n",
       "      <th>3</th>\n",
       "      <td>88</td>\n",
       "      <td>12</td>\n",
       "      <td>33</td>\n",
       "      <td>19.0</td>\n",
       "      <td>55.0</td>\n",
       "      <td>12.090909</td>\n",
       "    </tr>\n",
       "    <tr>\n",
       "      <th>4</th>\n",
       "      <td>18</td>\n",
       "      <td>5</td>\n",
       "      <td>17</td>\n",
       "      <td>1.0</td>\n",
       "      <td>1.0</td>\n",
       "      <td>13.750000</td>\n",
       "    </tr>\n",
       "    <tr>\n",
       "      <th>5</th>\n",
       "      <td>37</td>\n",
       "      <td>4</td>\n",
       "      <td>23</td>\n",
       "      <td>8.0</td>\n",
       "      <td>14.0</td>\n",
       "      <td>13.333333</td>\n",
       "    </tr>\n",
       "  </tbody>\n",
       "</table>\n",
       "</div>"
      ],
      "text/plain": [
       "         user_nitems  user_norder  user_ndistinctitems  user_nrdistinctitems  \\\n",
       "user_id                                                                        \n",
       "1                 59           10                   18                  10.0   \n",
       "2                195           14                  102                  37.0   \n",
       "3                 88           12                   33                  19.0   \n",
       "4                 18            5                   17                   1.0   \n",
       "5                 37            4                   23                   8.0   \n",
       "\n",
       "         user_nritems  user_interval  \n",
       "user_id                               \n",
       "1                41.0      19.555555  \n",
       "2                93.0      15.230769  \n",
       "3                55.0      12.090909  \n",
       "4                 1.0      13.750000  \n",
       "5                14.0      13.333333  "
      ]
     },
     "execution_count": 24,
     "metadata": {},
     "output_type": "execute_result"
    }
   ],
   "source": [
    "del u1, u2, u3, u4\n",
    "user_feature.head()"
   ]
  },
  {
   "cell_type": "code",
   "execution_count": 26,
   "metadata": {},
   "outputs": [],
   "source": [
    "user_feature = user_feature.fillna(0)"
   ]
  },
  {
   "cell_type": "code",
   "execution_count": 35,
   "metadata": {},
   "outputs": [],
   "source": [
    "user_feature['user_nritem_ratio'] = user_feature.user_nritems/user_feature.user_nitems\n",
    "user_feature['user_nrdistinctitem_ratio'] = user_feature.user_nrdistinctitems/user_feature.user_ndistinctitems\n",
    "user_feature['user_nitem_per_order'] = user_feature.user_nitems/user_feature.user_norder\n",
    "user_feature['user_nritem_per_order'] = user_feature.user_nritems/(user_feature.user_norder-1)\n",
    "user_feature['user_nritem_per_order_ratio'] = user_feature.user_nritem_per_order/user_feature.user_nitem_per_order"
   ]
  },
  {
   "cell_type": "code",
   "execution_count": 36,
   "metadata": {},
   "outputs": [
    {
     "data": {
      "text/html": [
       "<div>\n",
       "<table border=\"1\" class=\"dataframe\">\n",
       "  <thead>\n",
       "    <tr style=\"text-align: right;\">\n",
       "      <th></th>\n",
       "      <th>user_nitems</th>\n",
       "      <th>user_norder</th>\n",
       "      <th>user_ndistinctitems</th>\n",
       "      <th>user_nrdistinctitems</th>\n",
       "      <th>user_nritems</th>\n",
       "      <th>user_interval</th>\n",
       "      <th>user_nritem_ratio</th>\n",
       "      <th>user_nrdistinctitem_ratio</th>\n",
       "      <th>user_nitem_per_order</th>\n",
       "      <th>user_nritem_per_order</th>\n",
       "      <th>user_nritem_per_order_ratio</th>\n",
       "    </tr>\n",
       "    <tr>\n",
       "      <th>user_id</th>\n",
       "      <th></th>\n",
       "      <th></th>\n",
       "      <th></th>\n",
       "      <th></th>\n",
       "      <th></th>\n",
       "      <th></th>\n",
       "      <th></th>\n",
       "      <th></th>\n",
       "      <th></th>\n",
       "      <th></th>\n",
       "      <th></th>\n",
       "    </tr>\n",
       "  </thead>\n",
       "  <tbody>\n",
       "    <tr>\n",
       "      <th>1</th>\n",
       "      <td>59</td>\n",
       "      <td>10</td>\n",
       "      <td>18</td>\n",
       "      <td>10.0</td>\n",
       "      <td>41.0</td>\n",
       "      <td>19.555555</td>\n",
       "      <td>0.694915</td>\n",
       "      <td>0.555556</td>\n",
       "      <td>5.900000</td>\n",
       "      <td>4.555556</td>\n",
       "      <td>0.772128</td>\n",
       "    </tr>\n",
       "    <tr>\n",
       "      <th>2</th>\n",
       "      <td>195</td>\n",
       "      <td>14</td>\n",
       "      <td>102</td>\n",
       "      <td>37.0</td>\n",
       "      <td>93.0</td>\n",
       "      <td>15.230769</td>\n",
       "      <td>0.476923</td>\n",
       "      <td>0.362745</td>\n",
       "      <td>13.928571</td>\n",
       "      <td>7.153846</td>\n",
       "      <td>0.513609</td>\n",
       "    </tr>\n",
       "    <tr>\n",
       "      <th>3</th>\n",
       "      <td>88</td>\n",
       "      <td>12</td>\n",
       "      <td>33</td>\n",
       "      <td>19.0</td>\n",
       "      <td>55.0</td>\n",
       "      <td>12.090909</td>\n",
       "      <td>0.625000</td>\n",
       "      <td>0.575758</td>\n",
       "      <td>7.333333</td>\n",
       "      <td>5.000000</td>\n",
       "      <td>0.681818</td>\n",
       "    </tr>\n",
       "    <tr>\n",
       "      <th>4</th>\n",
       "      <td>18</td>\n",
       "      <td>5</td>\n",
       "      <td>17</td>\n",
       "      <td>1.0</td>\n",
       "      <td>1.0</td>\n",
       "      <td>13.750000</td>\n",
       "      <td>0.055556</td>\n",
       "      <td>0.058824</td>\n",
       "      <td>3.600000</td>\n",
       "      <td>0.250000</td>\n",
       "      <td>0.069444</td>\n",
       "    </tr>\n",
       "    <tr>\n",
       "      <th>5</th>\n",
       "      <td>37</td>\n",
       "      <td>4</td>\n",
       "      <td>23</td>\n",
       "      <td>8.0</td>\n",
       "      <td>14.0</td>\n",
       "      <td>13.333333</td>\n",
       "      <td>0.378378</td>\n",
       "      <td>0.347826</td>\n",
       "      <td>9.250000</td>\n",
       "      <td>4.666667</td>\n",
       "      <td>0.504505</td>\n",
       "    </tr>\n",
       "  </tbody>\n",
       "</table>\n",
       "</div>"
      ],
      "text/plain": [
       "         user_nitems  user_norder  user_ndistinctitems  user_nrdistinctitems  \\\n",
       "user_id                                                                        \n",
       "1                 59           10                   18                  10.0   \n",
       "2                195           14                  102                  37.0   \n",
       "3                 88           12                   33                  19.0   \n",
       "4                 18            5                   17                   1.0   \n",
       "5                 37            4                   23                   8.0   \n",
       "\n",
       "         user_nritems  user_interval  user_nritem_ratio  \\\n",
       "user_id                                                   \n",
       "1                41.0      19.555555           0.694915   \n",
       "2                93.0      15.230769           0.476923   \n",
       "3                55.0      12.090909           0.625000   \n",
       "4                 1.0      13.750000           0.055556   \n",
       "5                14.0      13.333333           0.378378   \n",
       "\n",
       "         user_nrdistinctitem_ratio  user_nitem_per_order  \\\n",
       "user_id                                                    \n",
       "1                         0.555556              5.900000   \n",
       "2                         0.362745             13.928571   \n",
       "3                         0.575758              7.333333   \n",
       "4                         0.058824              3.600000   \n",
       "5                         0.347826              9.250000   \n",
       "\n",
       "         user_nritem_per_order  user_nritem_per_order_ratio  \n",
       "user_id                                                      \n",
       "1                     4.555556                     0.772128  \n",
       "2                     7.153846                     0.513609  \n",
       "3                     5.000000                     0.681818  \n",
       "4                     0.250000                     0.069444  \n",
       "5                     4.666667                     0.504505  "
      ]
     },
     "execution_count": 36,
     "metadata": {},
     "output_type": "execute_result"
    }
   ],
   "source": [
    "user_feature.head()"
   ]
  },
  {
   "cell_type": "code",
   "execution_count": 37,
   "metadata": {
    "collapsed": true
   },
   "outputs": [],
   "source": [
    "product['order_time']=product.groupby(by=['product_id', 'user_id']).cumcount()\n",
    "second_order_ratio = lambda x: x[x==1].count()/x[x==0].count()\n",
    "\n",
    "p1 = product[['product_id', 'order_time']].groupby(by='product_id')['order_time'].agg({\"prod_norder_second_order_rate\": second_order_ratio})"
   ]
  },
  {
   "cell_type": "code",
   "execution_count": 39,
   "metadata": {},
   "outputs": [],
   "source": [
    "u5 = product[['user_id', 'order_time']].groupby(by='user_id')['order_time'].agg({\"user_second_order_rate\": second_order_ratio})"
   ]
  },
  {
   "cell_type": "code",
   "execution_count": 42,
   "metadata": {
    "scrolled": true
   },
   "outputs": [],
   "source": [
    "user_feature = user_feature.merge(u5, left_index=True, right_index=True)"
   ]
  },
  {
   "cell_type": "code",
   "execution_count": 43,
   "metadata": {
    "collapsed": true
   },
   "outputs": [],
   "source": [
    "user_feature.to_hdf(\"/mnt/d/Data/Instacart/dataset.hdf\", \"user_feature\")"
   ]
  },
  {
   "cell_type": "code",
   "execution_count": 6,
   "metadata": {},
   "outputs": [],
   "source": [
    "# product features\n",
    "p1 = product[['product_id', 'user_id', 'order_id']].groupby(by='product_id').agg({'user_id': pd.Series.nunique, 'order_id': pd.Series.nunique}).\\\n",
    "rename(columns={'user_id': 'prod_nuser', 'order_id': 'prod_norder'})\n",
    "p2 = product[['product_id', 'user_id', 'order_id']][product.reordered==1].groupby(by='product_id').agg({'user_id': pd.Series.nunique, 'order_id': pd.Series.nunique}).\\\n",
    "rename(columns={'user_id': 'prod_nruser', 'order_id': 'prod_nrorder'})"
   ]
  },
  {
   "cell_type": "code",
   "execution_count": 9,
   "metadata": {
    "scrolled": true
   },
   "outputs": [],
   "source": [
    "p3 = product[['product_id', 'user_id', 'interval_accu']].sort_values(by=['user_id', 'product_id', 'interval_accu'])"
   ]
  },
  {
   "cell_type": "code",
   "execution_count": 12,
   "metadata": {},
   "outputs": [],
   "source": [
    "avginterval = lambda x: np.inf if x.shape[0]==1 else (x.max()-x.min())/(x.shape[0]-1)\n",
    "up1 = p3.groupby(by=['user_id', 'product_id'])['interval_accu'].agg({'user_prod_days_interval': avginterval})"
   ]
  },
  {
   "cell_type": "code",
   "execution_count": 14,
   "metadata": {},
   "outputs": [],
   "source": [
    "up1 = up1[up1.user_prod_days_interval!=np.inf].reset_index()"
   ]
  },
  {
   "cell_type": "code",
   "execution_count": 20,
   "metadata": {},
   "outputs": [],
   "source": [
    "p3 = up1[['product_id', 'user_prod_days_interval']].groupby(by='product_id')['user_prod_days_interval'].agg({'prod_days_interval_avg': 'mean'})"
   ]
  },
  {
   "cell_type": "code",
   "execution_count": 23,
   "metadata": {
    "collapsed": true
   },
   "outputs": [],
   "source": [
    "up2 = product[['product_id', 'user_id', 'order_number']].sort_values(by=['user_id', 'product_id', 'order_number'])\n",
    "up2 = up2.groupby(by=['product_id', 'user_id'])['order_number'].agg({'user_prod_order_interval': avginterval}).reset_index()"
   ]
  },
  {
   "cell_type": "code",
   "execution_count": 26,
   "metadata": {},
   "outputs": [],
   "source": [
    "up2 = up2[up2.user_prod_order_interval!=np.inf]"
   ]
  },
  {
   "cell_type": "code",
   "execution_count": 27,
   "metadata": {
    "collapsed": true
   },
   "outputs": [],
   "source": [
    "p4 = up2[['product_id', 'user_prod_order_interval']].groupby(by='product_id')['user_prod_order_interval'].agg({'prod_order_interval_avg': 'mean'})"
   ]
  },
  {
   "cell_type": "code",
   "execution_count": 28,
   "metadata": {
    "collapsed": true
   },
   "outputs": [],
   "source": [
    "product_feature = p1.merge(p2, how='left', left_index=True, right_index=True).\\\n",
    "merge(p3, how='left', left_index=True, right_index=True).\\\n",
    "merge(p4, how='left', left_index=True, right_index=True)"
   ]
  },
  {
   "cell_type": "code",
   "execution_count": 37,
   "metadata": {
    "scrolled": true
   },
   "outputs": [
    {
     "data": {
      "text/plain": [
       "94.0"
      ]
     },
     "execution_count": 37,
     "metadata": {},
     "output_type": "execute_result"
    }
   ],
   "source": [
    "product_feature.prod_order_interval_avg.max()"
   ]
  },
  {
   "cell_type": "code",
   "execution_count": 40,
   "metadata": {},
   "outputs": [],
   "source": [
    "product_feature.prod_nruser = product_feature.prod_nruser.fillna(0)\n",
    "product_feature.prod_nrorder = product_feature.prod_nrorder.fillna(0)\n",
    "product_feature.prod_days_interval_avg = product_feature.prod_days_interval_avg.fillna(365)\n",
    "product_feature.prod_order_interval_avg = product_feature.prod_order_interval_avg.fillna(100)"
   ]
  },
  {
   "cell_type": "code",
   "execution_count": 44,
   "metadata": {},
   "outputs": [],
   "source": [
    "product_feature['prod_ruser_ratio'] = product_feature.prod_nruser/product_feature.prod_nuser\n",
    "product_feature['prod_rorder_ratio'] = product_feature.prod_nrorder/product_feature.prod_norder\n",
    "product_feature['prod_rorder_per_ruser'] = product_feature.prod_nrorder/product_feature.prod_nruser\n",
    "product_feature['prod_order_per_user'] = product_feature.prod_norder/product_feature.prod_nuser\n",
    "product_feature.prod_rorder_per_ruser = product_feature.prod_rorder_per_ruser.fillna(0)"
   ]
  },
  {
   "cell_type": "code",
   "execution_count": 50,
   "metadata": {},
   "outputs": [
    {
     "data": {
      "text/html": [
       "<div>\n",
       "<table border=\"1\" class=\"dataframe\">\n",
       "  <thead>\n",
       "    <tr style=\"text-align: right;\">\n",
       "      <th></th>\n",
       "      <th>prod_nuser</th>\n",
       "      <th>prod_norder</th>\n",
       "      <th>prod_nruser</th>\n",
       "      <th>prod_nrorder</th>\n",
       "      <th>prod_days_interval_avg</th>\n",
       "      <th>prod_order_interval_avg</th>\n",
       "      <th>prod_ruser_ratio</th>\n",
       "      <th>prod_rorder_ratio</th>\n",
       "      <th>prod_rorder_per_ruser</th>\n",
       "      <th>prod_order_per_user</th>\n",
       "      <th>prod_second_order_ratio</th>\n",
       "    </tr>\n",
       "    <tr>\n",
       "      <th>product_id</th>\n",
       "      <th></th>\n",
       "      <th></th>\n",
       "      <th></th>\n",
       "      <th></th>\n",
       "      <th></th>\n",
       "      <th></th>\n",
       "      <th></th>\n",
       "      <th></th>\n",
       "      <th></th>\n",
       "      <th></th>\n",
       "      <th></th>\n",
       "    </tr>\n",
       "  </thead>\n",
       "  <tbody>\n",
       "    <tr>\n",
       "      <th>1</th>\n",
       "      <td>716</td>\n",
       "      <td>1852</td>\n",
       "      <td>276.0</td>\n",
       "      <td>1136.0</td>\n",
       "      <td>46.261837</td>\n",
       "      <td>5.244687</td>\n",
       "      <td>0.385475</td>\n",
       "      <td>0.613391</td>\n",
       "      <td>4.115942</td>\n",
       "      <td>2.586592</td>\n",
       "      <td>0.385475</td>\n",
       "    </tr>\n",
       "    <tr>\n",
       "      <th>2</th>\n",
       "      <td>78</td>\n",
       "      <td>90</td>\n",
       "      <td>8.0</td>\n",
       "      <td>12.0</td>\n",
       "      <td>53.849998</td>\n",
       "      <td>8.750000</td>\n",
       "      <td>0.102564</td>\n",
       "      <td>0.133333</td>\n",
       "      <td>1.500000</td>\n",
       "      <td>1.153846</td>\n",
       "      <td>0.102564</td>\n",
       "    </tr>\n",
       "    <tr>\n",
       "      <th>3</th>\n",
       "      <td>74</td>\n",
       "      <td>277</td>\n",
       "      <td>36.0</td>\n",
       "      <td>203.0</td>\n",
       "      <td>26.942787</td>\n",
       "      <td>3.561093</td>\n",
       "      <td>0.486486</td>\n",
       "      <td>0.732852</td>\n",
       "      <td>5.638889</td>\n",
       "      <td>3.743243</td>\n",
       "      <td>0.486486</td>\n",
       "    </tr>\n",
       "    <tr>\n",
       "      <th>4</th>\n",
       "      <td>182</td>\n",
       "      <td>329</td>\n",
       "      <td>64.0</td>\n",
       "      <td>147.0</td>\n",
       "      <td>37.590836</td>\n",
       "      <td>3.236756</td>\n",
       "      <td>0.351648</td>\n",
       "      <td>0.446809</td>\n",
       "      <td>2.296875</td>\n",
       "      <td>1.807692</td>\n",
       "      <td>0.351648</td>\n",
       "    </tr>\n",
       "    <tr>\n",
       "      <th>5</th>\n",
       "      <td>6</td>\n",
       "      <td>15</td>\n",
       "      <td>4.0</td>\n",
       "      <td>9.0</td>\n",
       "      <td>55.583332</td>\n",
       "      <td>3.541667</td>\n",
       "      <td>0.666667</td>\n",
       "      <td>0.600000</td>\n",
       "      <td>2.250000</td>\n",
       "      <td>2.500000</td>\n",
       "      <td>0.666667</td>\n",
       "    </tr>\n",
       "  </tbody>\n",
       "</table>\n",
       "</div>"
      ],
      "text/plain": [
       "            prod_nuser  prod_norder  prod_nruser  prod_nrorder  \\\n",
       "product_id                                                       \n",
       "1                  716         1852        276.0        1136.0   \n",
       "2                   78           90          8.0          12.0   \n",
       "3                   74          277         36.0         203.0   \n",
       "4                  182          329         64.0         147.0   \n",
       "5                    6           15          4.0           9.0   \n",
       "\n",
       "            prod_days_interval_avg  prod_order_interval_avg  prod_ruser_ratio  \\\n",
       "product_id                                                                      \n",
       "1                        46.261837                 5.244687          0.385475   \n",
       "2                        53.849998                 8.750000          0.102564   \n",
       "3                        26.942787                 3.561093          0.486486   \n",
       "4                        37.590836                 3.236756          0.351648   \n",
       "5                        55.583332                 3.541667          0.666667   \n",
       "\n",
       "            prod_rorder_ratio  prod_rorder_per_ruser  prod_order_per_user  \\\n",
       "product_id                                                                  \n",
       "1                    0.613391               4.115942             2.586592   \n",
       "2                    0.133333               1.500000             1.153846   \n",
       "3                    0.732852               5.638889             3.743243   \n",
       "4                    0.446809               2.296875             1.807692   \n",
       "5                    0.600000               2.250000             2.500000   \n",
       "\n",
       "            prod_second_order_ratio  \n",
       "product_id                           \n",
       "1                          0.385475  \n",
       "2                          0.102564  \n",
       "3                          0.486486  \n",
       "4                          0.351648  \n",
       "5                          0.666667  "
      ]
     },
     "execution_count": 50,
     "metadata": {},
     "output_type": "execute_result"
    }
   ],
   "source": [
    "product_feature.head()"
   ]
  },
  {
   "cell_type": "code",
   "execution_count": 46,
   "metadata": {
    "collapsed": true
   },
   "outputs": [],
   "source": [
    "second_order_ratio = lambda x: x[x==1].count()/x[x==0].count()\n",
    "p5 = product[['product_id', 'order_time']].groupby(by='product_id')['order_time'].agg({\"prod_second_order_ratio\": second_order_ratio})"
   ]
  },
  {
   "cell_type": "code",
   "execution_count": 49,
   "metadata": {
    "collapsed": true
   },
   "outputs": [],
   "source": [
    "product_feature = product_feature.merge(p5, left_index=True, right_index=True)"
   ]
  },
  {
   "cell_type": "code",
   "execution_count": 51,
   "metadata": {
    "collapsed": true
   },
   "outputs": [],
   "source": [
    "del p1, p2, p3, p4, p5\n",
    "product_feature.to_hdf(\"/mnt/d/Data/Instacart/dataset.hdf\", \"product_feature\")"
   ]
  },
  {
   "cell_type": "code",
   "execution_count": 56,
   "metadata": {},
   "outputs": [],
   "source": [
    "# prod-user feature\n",
    "up3 = product[['user_id', 'product_id', 'reordered']].groupby(by=['product_id', 'user_id'])['reordered'].agg({\n",
    "    'user_prod_norder': 'count',\n",
    "    'user_prod_reordered': 'max'\n",
    "})"
   ]
  },
  {
   "cell_type": "code",
   "execution_count": 57,
   "metadata": {
    "scrolled": true
   },
   "outputs": [
    {
     "data": {
      "text/html": [
       "<div>\n",
       "<table border=\"1\" class=\"dataframe\">\n",
       "  <thead>\n",
       "    <tr style=\"text-align: right;\">\n",
       "      <th></th>\n",
       "      <th></th>\n",
       "      <th>user_prod_reordered</th>\n",
       "      <th>user_prod_norder</th>\n",
       "    </tr>\n",
       "    <tr>\n",
       "      <th>product_id</th>\n",
       "      <th>user_id</th>\n",
       "      <th></th>\n",
       "      <th></th>\n",
       "    </tr>\n",
       "  </thead>\n",
       "  <tbody>\n",
       "    <tr>\n",
       "      <th rowspan=\"5\" valign=\"top\">1</th>\n",
       "      <th>138</th>\n",
       "      <td>1</td>\n",
       "      <td>2</td>\n",
       "    </tr>\n",
       "    <tr>\n",
       "      <th>709</th>\n",
       "      <td>0</td>\n",
       "      <td>1</td>\n",
       "    </tr>\n",
       "    <tr>\n",
       "      <th>764</th>\n",
       "      <td>1</td>\n",
       "      <td>2</td>\n",
       "    </tr>\n",
       "    <tr>\n",
       "      <th>777</th>\n",
       "      <td>0</td>\n",
       "      <td>1</td>\n",
       "    </tr>\n",
       "    <tr>\n",
       "      <th>825</th>\n",
       "      <td>0</td>\n",
       "      <td>1</td>\n",
       "    </tr>\n",
       "  </tbody>\n",
       "</table>\n",
       "</div>"
      ],
      "text/plain": [
       "                    user_prod_reordered  user_prod_norder\n",
       "product_id user_id                                       \n",
       "1          138                        1                 2\n",
       "           709                        0                 1\n",
       "           764                        1                 2\n",
       "           777                        0                 1\n",
       "           825                        0                 1"
      ]
     },
     "execution_count": 57,
     "metadata": {},
     "output_type": "execute_result"
    }
   ],
   "source": [
    "up"
   ]
  },
  {
   "cell_type": "code",
   "execution_count": 101,
   "metadata": {},
   "outputs": [],
   "source": [
    "ut = product[['user_id', 'order_number']].groupby(by='user_id').agg({'order_number': 'max'})\n",
    "up4 = product[['user_id', 'product_id', 'order_number']][product.order_time==0].rename(columns={'order_number': 'first_order_number'})"
   ]
  },
  {
   "cell_type": "code",
   "execution_count": 102,
   "metadata": {
    "scrolled": true
   },
   "outputs": [],
   "source": [
    "up4 = pd.merge(up4, ut, left_on='user_id', right_index=True)"
   ]
  },
  {
   "cell_type": "code",
   "execution_count": 103,
   "metadata": {},
   "outputs": [],
   "source": [
    "up4['user_prod_recentlydiscovered'] = pd.Series(up4.first_order_number==up4.order_number)"
   ]
  },
  {
   "cell_type": "code",
   "execution_count": 107,
   "metadata": {},
   "outputs": [],
   "source": [
    "up4.drop(['first_order_number', 'order_number'], axis=1, inplace=True)"
   ]
  },
  {
   "cell_type": "code",
   "execution_count": 109,
   "metadata": {},
   "outputs": [],
   "source": [
    "user_product_feature = up3.reset_index().merge(up1, how='left', on=['product_id', 'user_id']).\\\n",
    "merge(up2, how='left', on=['product_id', 'user_id']).\\\n",
    "merge(up4.astype(np.int), on=['product_id', 'user_id'])"
   ]
  },
  {
   "cell_type": "code",
   "execution_count": 114,
   "metadata": {},
   "outputs": [],
   "source": [
    "user_product_feature.user_prod_days_interval = user_product_feature.user_prod_days_interval.fillna(366)\n",
    "user_product_feature.user_prod_order_interval = user_product_feature.user_prod_order_interval.fillna(100)"
   ]
  },
  {
   "cell_type": "code",
   "execution_count": 115,
   "metadata": {
    "collapsed": true
   },
   "outputs": [],
   "source": [
    "del up1, up2, up3, up4"
   ]
  },
  {
   "cell_type": "code",
   "execution_count": 116,
   "metadata": {},
   "outputs": [
    {
     "ename": "NameError",
     "evalue": "name 'user_feature' is not defined",
     "output_type": "error",
     "traceback": [
      "\u001b[0;31m---------------------------------------------------------------------------\u001b[0m",
      "\u001b[0;31mNameError\u001b[0m                                 Traceback (most recent call last)",
      "\u001b[0;32m<ipython-input-116-1fc54ce41d24>\u001b[0m in \u001b[0;36m<module>\u001b[0;34m()\u001b[0m\n\u001b[0;32m----> 1\u001b[0;31m \u001b[0muser_feature\u001b[0m\u001b[0;34m.\u001b[0m\u001b[0mhead\u001b[0m\u001b[0;34m(\u001b[0m\u001b[0;34m)\u001b[0m\u001b[0;34m\u001b[0m\u001b[0m\n\u001b[0m",
      "\u001b[0;31mNameError\u001b[0m: name 'user_feature' is not defined"
     ]
    }
   ],
   "source": [
    "user_feature.head()"
   ]
  },
  {
   "cell_type": "code",
   "execution_count": 117,
   "metadata": {},
   "outputs": [
    {
     "data": {
      "text/html": [
       "<div>\n",
       "<table border=\"1\" class=\"dataframe\">\n",
       "  <thead>\n",
       "    <tr style=\"text-align: right;\">\n",
       "      <th></th>\n",
       "      <th>user_nitems</th>\n",
       "      <th>user_norder</th>\n",
       "      <th>user_ndistinctitems</th>\n",
       "      <th>user_nrdistinctitems</th>\n",
       "      <th>user_nritems</th>\n",
       "      <th>user_interval</th>\n",
       "      <th>user_nritem_ratio</th>\n",
       "      <th>user_nrdistinctitem_ratio</th>\n",
       "      <th>user_nitem_per_order</th>\n",
       "      <th>user_nritem_per_order</th>\n",
       "      <th>user_nritem_per_order_ratio</th>\n",
       "      <th>user_second_order_rate</th>\n",
       "    </tr>\n",
       "    <tr>\n",
       "      <th>user_id</th>\n",
       "      <th></th>\n",
       "      <th></th>\n",
       "      <th></th>\n",
       "      <th></th>\n",
       "      <th></th>\n",
       "      <th></th>\n",
       "      <th></th>\n",
       "      <th></th>\n",
       "      <th></th>\n",
       "      <th></th>\n",
       "      <th></th>\n",
       "      <th></th>\n",
       "    </tr>\n",
       "  </thead>\n",
       "  <tbody>\n",
       "    <tr>\n",
       "      <th>1</th>\n",
       "      <td>59</td>\n",
       "      <td>10</td>\n",
       "      <td>18</td>\n",
       "      <td>10.0</td>\n",
       "      <td>41.0</td>\n",
       "      <td>19.555555</td>\n",
       "      <td>0.694915</td>\n",
       "      <td>0.555556</td>\n",
       "      <td>5.900000</td>\n",
       "      <td>4.555556</td>\n",
       "      <td>0.772128</td>\n",
       "      <td>0.555556</td>\n",
       "    </tr>\n",
       "    <tr>\n",
       "      <th>2</th>\n",
       "      <td>195</td>\n",
       "      <td>14</td>\n",
       "      <td>102</td>\n",
       "      <td>37.0</td>\n",
       "      <td>93.0</td>\n",
       "      <td>15.230769</td>\n",
       "      <td>0.476923</td>\n",
       "      <td>0.362745</td>\n",
       "      <td>13.928571</td>\n",
       "      <td>7.153846</td>\n",
       "      <td>0.513609</td>\n",
       "      <td>0.362745</td>\n",
       "    </tr>\n",
       "    <tr>\n",
       "      <th>3</th>\n",
       "      <td>88</td>\n",
       "      <td>12</td>\n",
       "      <td>33</td>\n",
       "      <td>19.0</td>\n",
       "      <td>55.0</td>\n",
       "      <td>12.090909</td>\n",
       "      <td>0.625000</td>\n",
       "      <td>0.575758</td>\n",
       "      <td>7.333333</td>\n",
       "      <td>5.000000</td>\n",
       "      <td>0.681818</td>\n",
       "      <td>0.575758</td>\n",
       "    </tr>\n",
       "    <tr>\n",
       "      <th>4</th>\n",
       "      <td>18</td>\n",
       "      <td>5</td>\n",
       "      <td>17</td>\n",
       "      <td>1.0</td>\n",
       "      <td>1.0</td>\n",
       "      <td>13.750000</td>\n",
       "      <td>0.055556</td>\n",
       "      <td>0.058824</td>\n",
       "      <td>3.600000</td>\n",
       "      <td>0.250000</td>\n",
       "      <td>0.069444</td>\n",
       "      <td>0.058824</td>\n",
       "    </tr>\n",
       "    <tr>\n",
       "      <th>5</th>\n",
       "      <td>37</td>\n",
       "      <td>4</td>\n",
       "      <td>23</td>\n",
       "      <td>8.0</td>\n",
       "      <td>14.0</td>\n",
       "      <td>13.333333</td>\n",
       "      <td>0.378378</td>\n",
       "      <td>0.347826</td>\n",
       "      <td>9.250000</td>\n",
       "      <td>4.666667</td>\n",
       "      <td>0.504505</td>\n",
       "      <td>0.347826</td>\n",
       "    </tr>\n",
       "  </tbody>\n",
       "</table>\n",
       "</div>"
      ],
      "text/plain": [
       "         user_nitems  user_norder  user_ndistinctitems  user_nrdistinctitems  \\\n",
       "user_id                                                                        \n",
       "1                 59           10                   18                  10.0   \n",
       "2                195           14                  102                  37.0   \n",
       "3                 88           12                   33                  19.0   \n",
       "4                 18            5                   17                   1.0   \n",
       "5                 37            4                   23                   8.0   \n",
       "\n",
       "         user_nritems  user_interval  user_nritem_ratio  \\\n",
       "user_id                                                   \n",
       "1                41.0      19.555555           0.694915   \n",
       "2                93.0      15.230769           0.476923   \n",
       "3                55.0      12.090909           0.625000   \n",
       "4                 1.0      13.750000           0.055556   \n",
       "5                14.0      13.333333           0.378378   \n",
       "\n",
       "         user_nrdistinctitem_ratio  user_nitem_per_order  \\\n",
       "user_id                                                    \n",
       "1                         0.555556              5.900000   \n",
       "2                         0.362745             13.928571   \n",
       "3                         0.575758              7.333333   \n",
       "4                         0.058824              3.600000   \n",
       "5                         0.347826              9.250000   \n",
       "\n",
       "         user_nritem_per_order  user_nritem_per_order_ratio  \\\n",
       "user_id                                                       \n",
       "1                     4.555556                     0.772128   \n",
       "2                     7.153846                     0.513609   \n",
       "3                     5.000000                     0.681818   \n",
       "4                     0.250000                     0.069444   \n",
       "5                     4.666667                     0.504505   \n",
       "\n",
       "         user_second_order_rate  \n",
       "user_id                          \n",
       "1                      0.555556  \n",
       "2                      0.362745  \n",
       "3                      0.575758  \n",
       "4                      0.058824  \n",
       "5                      0.347826  "
      ]
     },
     "execution_count": 117,
     "metadata": {},
     "output_type": "execute_result"
    }
   ],
   "source": [
    "user_feature = pd.read_hdf(\"/mnt/d/Data/Instacart/dataset.hdf\", \"user_feature\")\n",
    "user_feature.head()"
   ]
  },
  {
   "cell_type": "code",
   "execution_count": 118,
   "metadata": {
    "collapsed": true
   },
   "outputs": [],
   "source": [
    "user_product_feature = user_product_feature.merge(user_feature[['user_interval', 'user_norder']], left_on='user_id',\n",
    "                                                 right_index=True)"
   ]
  },
  {
   "cell_type": "code",
   "execution_count": 119,
   "metadata": {
    "collapsed": true
   },
   "outputs": [],
   "source": [
    "user_product_feature['user_prod_norder_rate'] = user_product_feature.user_prod_norder/user_product_feature.user_norder\n",
    "user_product_feature['user_prod_days_interval_rate'] = user_product_feature.user_prod_days_interval/user_product_feature.user_interval"
   ]
  },
  {
   "cell_type": "code",
   "execution_count": 120,
   "metadata": {
    "collapsed": true
   },
   "outputs": [],
   "source": [
    "user_product_feature.drop(['user_interval', 'user_norder'], axis=1, inplace=True)"
   ]
  },
  {
   "cell_type": "code",
   "execution_count": 121,
   "metadata": {
    "collapsed": true
   },
   "outputs": [],
   "source": [
    "user_product_feature.to_hdf(\"/mnt/d/Data/Instacart/dataset.hdf\", \"user_product_feature\")"
   ]
  },
  {
   "cell_type": "code",
   "execution_count": 3,
   "metadata": {
    "collapsed": true
   },
   "outputs": [],
   "source": [
    "# hour and week\n",
    "priors = pd.read_csv(data + 'order_products__prior.csv', dtype={\n",
    "            'order_id': np.int32,\n",
    "            'product_id': np.uint16,\n",
    "            'add_to_cart_order': np.int16,\n",
    "            'reordered': np.int8}, usecols = ['order_id', 'product_id', 'reordered'], engine='c')\n",
    "\n",
    "orders = pd.read_csv(data + 'orders.csv', dtype={\n",
    "        'order_id': np.int32,\n",
    "        'user_id': np.int32,\n",
    "        'eval_set': 'category',\n",
    "        'order_number': np.int16,\n",
    "        'order_dow': np.int8,\n",
    "        'order_hour_of_day': np.int8,\n",
    "        'days_since_prior_order': np.float32}, usecols = ['order_id', 'user_id', 'order_number', 'order_dow', 'order_hour_of_day'], engine='c')\n",
    "\n",
    "product = pd.merge(priors, orders, on='order_id').sort_values(by=['user_id', 'order_number', 'product_id']).reset_index(drop=True)"
   ]
  },
  {
   "cell_type": "code",
   "execution_count": 4,
   "metadata": {},
   "outputs": [
    {
     "data": {
      "text/html": [
       "<div>\n",
       "<table border=\"1\" class=\"dataframe\">\n",
       "  <thead>\n",
       "    <tr style=\"text-align: right;\">\n",
       "      <th></th>\n",
       "      <th>order_id</th>\n",
       "      <th>product_id</th>\n",
       "      <th>reordered</th>\n",
       "      <th>user_id</th>\n",
       "      <th>order_number</th>\n",
       "      <th>order_dow</th>\n",
       "      <th>order_hour_of_day</th>\n",
       "    </tr>\n",
       "  </thead>\n",
       "  <tbody>\n",
       "    <tr>\n",
       "      <th>0</th>\n",
       "      <td>2539329</td>\n",
       "      <td>196</td>\n",
       "      <td>0</td>\n",
       "      <td>1</td>\n",
       "      <td>1</td>\n",
       "      <td>2</td>\n",
       "      <td>8</td>\n",
       "    </tr>\n",
       "    <tr>\n",
       "      <th>1</th>\n",
       "      <td>2539329</td>\n",
       "      <td>12427</td>\n",
       "      <td>0</td>\n",
       "      <td>1</td>\n",
       "      <td>1</td>\n",
       "      <td>2</td>\n",
       "      <td>8</td>\n",
       "    </tr>\n",
       "    <tr>\n",
       "      <th>2</th>\n",
       "      <td>2539329</td>\n",
       "      <td>14084</td>\n",
       "      <td>0</td>\n",
       "      <td>1</td>\n",
       "      <td>1</td>\n",
       "      <td>2</td>\n",
       "      <td>8</td>\n",
       "    </tr>\n",
       "    <tr>\n",
       "      <th>3</th>\n",
       "      <td>2539329</td>\n",
       "      <td>26088</td>\n",
       "      <td>0</td>\n",
       "      <td>1</td>\n",
       "      <td>1</td>\n",
       "      <td>2</td>\n",
       "      <td>8</td>\n",
       "    </tr>\n",
       "    <tr>\n",
       "      <th>4</th>\n",
       "      <td>2539329</td>\n",
       "      <td>26405</td>\n",
       "      <td>0</td>\n",
       "      <td>1</td>\n",
       "      <td>1</td>\n",
       "      <td>2</td>\n",
       "      <td>8</td>\n",
       "    </tr>\n",
       "  </tbody>\n",
       "</table>\n",
       "</div>"
      ],
      "text/plain": [
       "   order_id  product_id  reordered  user_id  order_number  order_dow  \\\n",
       "0   2539329         196          0        1             1          2   \n",
       "1   2539329       12427          0        1             1          2   \n",
       "2   2539329       14084          0        1             1          2   \n",
       "3   2539329       26088          0        1             1          2   \n",
       "4   2539329       26405          0        1             1          2   \n",
       "\n",
       "   order_hour_of_day  \n",
       "0                  8  \n",
       "1                  8  \n",
       "2                  8  \n",
       "3                  8  \n",
       "4                  8  "
      ]
     },
     "execution_count": 4,
     "metadata": {},
     "output_type": "execute_result"
    }
   ],
   "source": [
    "product.head()"
   ]
  },
  {
   "cell_type": "code",
   "execution_count": 5,
   "metadata": {
    "collapsed": true
   },
   "outputs": [],
   "source": [
    "t1 = product[['product_id', 'order_hour_of_day', 'order_id']].groupby(by=['product_id', 'order_hour_of_day']).agg('count').reset_index()\n",
    "t1 = t1.rename(columns={'order_id': 'hour_cnt'})\n",
    "t11 = t1.groupby(by='product_id')['hour_cnt'].agg({'prod_hour_cnt': 'sum'}).reset_index()\n",
    "t12 = t1.groupby(by='order_hour_of_day')['hour_cnt'].agg({'hour_prod_cnt': 'sum'}).reset_index()\n",
    "t1 = t1.merge(t11, on='product_id').merge(t12, on='order_hour_of_day')\n",
    "t1['prod_hour_prob']=t1.hour_cnt/t1.prod_hour_cnt\n",
    "t1['hour_prod_prob']=t1.hour_cnt/t1.hour_prod_cnt\n",
    "t1.drop(['hour_cnt', 'prod_hour_cnt', 'hour_prod_cnt'], axis=1, inplace=True)\n",
    "del t11, t12"
   ]
  },
  {
   "cell_type": "code",
   "execution_count": 6,
   "metadata": {
    "collapsed": true
   },
   "outputs": [],
   "source": [
    "t2 = product[['product_id', 'order_dow', 'order_id']].groupby(by=['product_id', 'order_dow']).agg('count').reset_index()\n",
    "t2 = t2.rename(columns={'order_id': 'week_cnt'})\n",
    "t21 = t2.groupby(by='product_id')['week_cnt'].agg({'prod_week_cnt': 'sum'}).reset_index()\n",
    "t22 = t2.groupby(by='order_dow')['week_cnt'].agg({'week_prod_cnt': 'sum'}).reset_index()\n",
    "t2 = t2.merge(t21, on='product_id').merge(t22, on='order_dow')\n",
    "t2['prod_week_prob']=t2.week_cnt/t2.prod_week_cnt\n",
    "t2['week_prod_prob']=t2.week_cnt/t2.week_prod_cnt\n",
    "t2.drop(['week_cnt', 'prob_week_cnt', 'week_prod_cnt'], axis=1, inplace=True)\n",
    "del t22, t21"
   ]
  },
  {
   "cell_type": "code",
   "execution_count": 7,
   "metadata": {
    "collapsed": true
   },
   "outputs": [],
   "source": [
    "t3 = product[['user_id', 'order_hour_of_day', 'order_id']][product.reordered==1].\\\n",
    "groupby(by=['user_id', 'order_hour_of_day'])['order_id'].\\\n",
    "agg({'user_hour_count': 'count'}).reset_index()\n",
    "t31 = product[['user_id', 'order_hour_of_day', 'order_id']][product.reordered==1].\\\n",
    "groupby(by=['user_id'])['order_id'].\\\n",
    "agg({'user_count': 'count'}).reset_index()\n",
    "t3 = t3.merge(t31, on='user_id')\n",
    "t3['hour_user_reorder_prob'] = t3.user_hour_count/t3.user_count\n",
    "t3.drop(['user_hour_count', 'user_count'], axis=1, inplace=True)"
   ]
  },
  {
   "cell_type": "code",
   "execution_count": 8,
   "metadata": {
    "collapsed": true
   },
   "outputs": [],
   "source": [
    "t4 = product[['user_id', 'order_dow', 'order_id']][product.reordered==1].\\\n",
    "groupby(by=['user_id', 'order_dow'])['order_id'].\\\n",
    "agg({'user_week_count': 'count'}).reset_index()\n",
    "t41 = product[['user_id', 'order_dow', 'order_id']][product.reordered==1].\\\n",
    "groupby(by=['user_id'])['order_id'].\\\n",
    "agg({'user_count': 'count'}).reset_index()\n",
    "t4 = t4.merge(t41, on='user_id')\n",
    "t4['week_user_reorder_prob'] = t4.user_week_count/t4.user_count\n",
    "t4.drop(['user_week_count', 'user_count'], axis=1, inplace=True)"
   ]
  },
  {
   "cell_type": "code",
   "execution_count": null,
   "metadata": {
    "collapsed": true
   },
   "outputs": [],
   "source": []
  }
 ],
 "metadata": {
  "kernelspec": {
   "display_name": "Python 3",
   "language": "python",
   "name": "python3"
  },
  "language_info": {
   "codemirror_mode": {
    "name": "ipython",
    "version": 3
   },
   "file_extension": ".py",
   "mimetype": "text/x-python",
   "name": "python",
   "nbconvert_exporter": "python",
   "pygments_lexer": "ipython3",
   "version": "3.5.2"
  }
 },
 "nbformat": 4,
 "nbformat_minor": 2
}
